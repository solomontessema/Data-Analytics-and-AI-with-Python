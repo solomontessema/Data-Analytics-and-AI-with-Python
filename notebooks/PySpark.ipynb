{
  "nbformat": 4,
  "nbformat_minor": 0,
  "metadata": {
    "colab": {
      "provenance": [],
      "mount_file_id": "1ItgQO2PRkJ_SxtozH2oUyIOBWKqvMt6L",
      "authorship_tag": "ABX9TyOrPsuZoJlaRBKWQyUwCqTF",
      "include_colab_link": true
    },
    "kernelspec": {
      "name": "python3",
      "display_name": "Python 3"
    },
    "language_info": {
      "name": "python"
    }
  },
  "cells": [
    {
      "cell_type": "markdown",
      "metadata": {
        "id": "view-in-github",
        "colab_type": "text"
      },
      "source": [
        "<a href=\"https://colab.research.google.com/github/solomontessema/Data-Analytics-and-AI-with-Python/blob/main/notebooks/PySpark.ipynb\" target=\"_parent\"><img src=\"https://colab.research.google.com/assets/colab-badge.svg\" alt=\"Open In Colab\"/></a>"
      ]
    },
    {
      "cell_type": "code",
      "source": [
        "from google.colab import drive\n",
        "drive.mount('/content/drive/')"
      ],
      "metadata": {
        "id": "DUQ4g5Un_TTn"
      },
      "execution_count": null,
      "outputs": []
    },
    {
      "cell_type": "code",
      "source": [
        "# Install Java\n",
        "!apt-get install openjdk-11-jdk-headless -qq > /dev/null\n",
        "\n",
        "# Download Spark from a stable mirror\n",
        "!wget -q https://mirrors.huaweicloud.com/apache/spark/spark-3.4.1/spark-3.4.1-bin-hadoop3.tgz\n",
        "\n",
        "# Extract Spark\n",
        "!tar -xvf spark-3.4.1-bin-hadoop3.tgz\n",
        "\n",
        "# Install findspark\n",
        "!pip install -q findspark"
      ],
      "metadata": {
        "id": "QbBlQxSn_t-s"
      },
      "execution_count": null,
      "outputs": []
    },
    {
      "cell_type": "code",
      "source": [
        "import os\n",
        "os.environ[\"JAVA_HOME\"] = \"/usr/lib/jvm/java-11-openjdk-amd64\"\n",
        "os.environ[\"SPARK_HOME\"] = \"/content/spark-3.4.1-bin-hadoop3\"\n",
        "\n",
        "import findspark\n",
        "findspark.init()\n",
        "\n",
        "from pyspark.sql import SparkSession\n",
        "spark = SparkSession.builder.appName(\"AirbnbReviews\").getOrCreate()\n"
      ],
      "metadata": {
        "id": "JENEQEjnBHgq"
      },
      "execution_count": null,
      "outputs": []
    },
    {
      "cell_type": "code",
      "source": [
        "df = spark.read.csv(\"/content/drive/MyDrive/listings.csv\", header=True, inferSchema=True)\n",
        "df.printSchema()\n",
        "df.show(5)\n"
      ],
      "metadata": {
        "id": "4FAxJAZqD01d"
      },
      "execution_count": null,
      "outputs": []
    },
    {
      "cell_type": "code",
      "source": [
        "df.head(5)"
      ],
      "metadata": {
        "id": "emZ4qjFhD9kP"
      },
      "execution_count": null,
      "outputs": []
    },
    {
      "cell_type": "code",
      "source": [
        "from pyspark.sql.functions import col, to_date\n",
        "\n",
        "df_clean = df.filter(col(\"price\").isNotNull())\n",
        "df_clean = df_clean.withColumn(\"last_review\", to_date(col(\"last_review\")))\n",
        "df_clean.select(\"id\", \"name\", \"price\", \"last_review\").show(5)\n"
      ],
      "metadata": {
        "id": "5-XmuzfCEW7m"
      },
      "execution_count": null,
      "outputs": []
    },
    {
      "cell_type": "code",
      "source": [
        "df_clean.groupBy(\"room_type\").avg(\"price\").orderBy(\"avg(price)\", ascending=False).show()\n"
      ],
      "metadata": {
        "id": "Ocda9euwEt62"
      },
      "execution_count": null,
      "outputs": []
    },
    {
      "cell_type": "code",
      "source": [
        "df_clean.groupBy(\"neighbourhood\").count().orderBy(\"count\", ascending=False).show()"
      ],
      "metadata": {
        "id": "imE_3eLyE9Nl"
      },
      "execution_count": null,
      "outputs": []
    },
    {
      "cell_type": "code",
      "source": [
        "df_clean.write.parquet(\"/content/drive/MyDrive/listings_clean.parquet\")\n",
        "\n"
      ],
      "metadata": {
        "id": "AiVYpr1nHEke"
      },
      "execution_count": null,
      "outputs": []
    },
    {
      "cell_type": "code",
      "source": [
        "df_clean.groupby(\"name\").avg(\"reviews_per_month\").orderBy(\"name\",ascending =True).show()"
      ],
      "metadata": {
        "id": "LC6WAyfnJokH"
      },
      "execution_count": null,
      "outputs": []
    },
    {
      "cell_type": "code",
      "source": [
        "df_clean.groupBy(\"name\").count().show()"
      ],
      "metadata": {
        "id": "elyBHbfUKm7F"
      },
      "execution_count": null,
      "outputs": []
    },
    {
      "cell_type": "code",
      "source": [
        "df_clean.join(df_clean,df_clean[\"name\"]==df_clean[\"name\"], \"inner\").show()\n"
      ],
      "metadata": {
        "id": "YPA2NlN0LVUM"
      },
      "execution_count": null,
      "outputs": []
    },
    {
      "cell_type": "code",
      "source": [],
      "metadata": {
        "id": "dU7upCk0LVML"
      },
      "execution_count": null,
      "outputs": []
    }
  ]
}