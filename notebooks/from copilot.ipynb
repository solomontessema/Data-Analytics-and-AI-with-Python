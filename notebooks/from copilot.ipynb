{
  "nbformat": 4,
  "nbformat_minor": 0,
  "metadata": {
    "kernelspec": {
      "name": "python3",
      "display_name": "Python 3"
    },
    "language_info": {
      "name": "python"
    }
  },
  "cells": [
    {
      "cell_type": "markdown",
      "metadata": {},
      "source": [
        "# 📦 Mount Google Drive\n",
        "We begin by mounting Google Drive to access the dataset stored in your cloud workspace."
      ]
    },
    {
      "cell_type": "code",
      "execution_count": null,
      "metadata": {},
      "outputs": [],
      "source": [
        "from google.colab import drive\n",
        "drive.mount('/content/drive/')"
      ]
    },
    {
      "cell_type": "markdown",
      "metadata": {},
      "source": [
        "# ⚙️ Install Spark and Dependencies\n",
        "This installs Java, downloads Spark, and sets up `findspark` to initialize the Spark environment."
      ]
    },
    {
      "cell_type": "code",
      "execution_count": null,
      "metadata": {},
      "outputs": [],
      "source": [
        "!apt-get install openjdk-11-jdk-headless -qq > /dev/null\n",
        "!wget -q https://mirrors.huaweicloud.com/apache/spark/spark-3.4.1/spark-3.4.1-bin-hadoop3.tgz\n",
        "!tar -xvf spark-3.4.1-bin-hadoop3.tgz\n",
        "!pip install -q findspark"
      ]
    },
    {
      "cell_type": "markdown",
      "metadata": {},
      "source": [
        "# 🚀 Initialize SparkSession\n",
        "We configure environment variables and start a Spark session for distributed data processing."
      ]
    },
    {
      "cell_type": "code",
      "execution_count": null,
      "metadata": {},
      "outputs": [],
      "source": [
        "import os\n",
        "os.environ['JAVA_HOME'] = '/usr/lib/jvm/java-11-openjdk-amd64'\n",
        "os.environ['SPARK_HOME'] = '/content/spark-3.4.1-bin-hadoop3'\n",
        "import findspark\n",
        "findspark.init()\n",
        "from pyspark.sql import SparkSession\n",
        "spark = SparkSession.builder.appName('AirbnbReviews').getOrCreate()"
      ]
    },
    {
      "cell_type": "markdown",
      "metadata": {},
      "source": [
        "# 📥 Load Airbnb Dataset\n",
        "We load the CSV file into a Spark DataFrame and inspect its schema and sample rows."
      ]
    },
    {
      "cell_type": "code",
      "execution_count": null,
      "metadata": {},
      "outputs": [],
      "source": [
        "df = spark.read.csv('/content/drive/MyDrive/listings.csv', header=True, inferSchema=True)\n",
        "df.printSchema()\n",
        "df.show(5)"
      ]
    },
    {
      "cell_type": "markdown",
      "metadata": {},
      "source": [
        "# 🧹 Data Cleaning\n",
        "We filter out rows with missing prices and convert review dates to proper date format."
      ]
    },
    {
      "cell_type": "code",
      "execution_count": null,
      "metadata": {},
      "outputs": [],
      "source": [
        "from pyspark.sql.functions import col, to_date\n",
        "df_clean = df.filter(col('price').isNotNull())\n",
        "df_clean = df_clean.withColumn('last_review', to_date(col('last_review')))\n",
        "df_clean.select('id', 'name', 'price', 'last_review').show()"
      ]
    },
    {
      "cell_type": "markdown",
      "metadata": {},
      "source": [
        "# 📊 Aggregation: Price by Room Type\n",
        "We calculate average prices grouped by room type to identify pricing trends."
      ]
    },
    {
      "cell_type": "code",
      "execution_count": null,
      "metadata": {},
      "outputs": [],
      "source": [
        "df_clean.groupBy('room_type').avg('price').orderBy('avg(price)', ascending=False).show()"
      ]
    },
    {
      "cell_type": "markdown",
      "metadata": {},
      "source": [
        "# 🏘️ Aggregation: Listings by Neighborhood\n",
        "We count the number of listings per neighborhood to identify popular areas."
      ]
    },
    {
      "cell_type": "code",
      "execution_count": null,
      "metadata": {},
      "outputs": [],
      "source": [
        "df_clean.groupBy('neighbourhood').count().orderBy('count', ascending=False).show()"
      ]
    }
  ]
}
