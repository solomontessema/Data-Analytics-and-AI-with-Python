{
 "nbformat": 4,
 "nbformat_minor": 0,
 "metadata": {
   "kernelspec": {
     "name": "python3",
     "display_name": "Python 3"
   },
   "language_info": {
     "name": "python",
     "version": "3.10"
   }
 },
 "cells": [
   {
     "cell_type": "markdown",
     "metadata": {},
     "source": [
       "# 🔍 Sample Notebook\n",
       "This notebook demonstrates basic Python functionality and Markdown formatting.\n",
       "\n",
       "**Sections:**\n",
       "- Print statement\n",
       "- Simple loop\n",
       "- Markdown formatting"
     ]
   },
   {
     "cell_type": "code",
     "execution_count": null,
     "metadata": {},
     "outputs": [],
     "source": [
       "# Hello World\n",
       "print(\"Hello, Solomon 👋\")"
     ]
   },
   {
     "cell_type": "code",
     "execution_count": null,
     "metadata": {},
     "outputs": [],
     "source": [
       "# Loop example\n",
       "for i in range(3):\n",
       "    print(f\"Iteration {i}\")"
     ]
   },
   {
     "cell_type": "markdown",
     "metadata": {},
     "source": [
       "## ✅ Markdown Tips\n",
       "- Use `#` for headers\n",
       "- Use `**bold**` or `_italic_`\n",
       "- Lists: `- item`, `1. item`\n",
       "\n",
       "You can also embed code:\n",
       "```python\n",
       "print(\"Inline code block\")\n",
       "```"
     ]
   }
 ]
}
